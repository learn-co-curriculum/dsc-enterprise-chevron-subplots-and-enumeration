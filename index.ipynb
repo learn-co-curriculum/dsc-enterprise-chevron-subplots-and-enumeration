{
 "cells": [
  {
   "cell_type": "markdown",
   "metadata": {},
   "source": [
    "# Subplots and Enumeration\n",
    "\n",
    "## Introduction\n",
    "\n",
    "In this lesson, we'll learn about an advanced functionality of Matplotlib, **_Subplots_**! We'll also learn about how we can use a special kind of fot-loop, **_enumeration_** to make our code simpler and shorter--especially when creating subplots!\n",
    "\n",
    "## Objectives\n",
    "\n",
    "You will be able to:\n",
    "\n",
    "* Use python's `enumerate` keyword for lists where we also to access the index\n",
    "* Create basic subplots with matplotlib\n",
    "* Use `enumerate` to write effective, pythonic code when creating subplots\n",
    "\n",
    "## Review - Creating a Subplot\n",
    "\n",
    "Recall from our previous lesson matplotlib that we can easily create rows and columns of plots called **_subplots_** using matplotlib. "
   ]
  },
  {
   "cell_type": "code",
   "execution_count": null,
   "metadata": {},
   "outputs": [],
   "source": []
  }
 ],
 "metadata": {
  "kernelspec": {
   "display_name": "Python 3",
   "language": "python",
   "name": "python3"
  },
  "language_info": {
   "codemirror_mode": {
    "name": "ipython",
    "version": 3
   },
   "file_extension": ".py",
   "mimetype": "text/x-python",
   "name": "python",
   "nbconvert_exporter": "python",
   "pygments_lexer": "ipython3",
   "version": "3.6.7"
  }
 },
 "nbformat": 4,
 "nbformat_minor": 2
}
